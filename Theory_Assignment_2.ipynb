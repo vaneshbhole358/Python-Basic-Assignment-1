{
 "cells": [
  {
   "cell_type": "markdown",
   "id": "8798e748",
   "metadata": {},
   "source": [
    "1.What are the two values of the Boolean data type? How do you write them?"
   ]
  },
  {
   "cell_type": "markdown",
   "id": "62743977",
   "metadata": {},
   "source": [
    "Ans: There are Two Values of Boolean Data type i.e. True and False"
   ]
  },
  {
   "cell_type": "code",
   "execution_count": 17,
   "id": "fbc06b9c",
   "metadata": {},
   "outputs": [
    {
     "name": "stdout",
     "output_type": "stream",
     "text": [
      "The Value of True  \n",
      "The value of False\n",
      "<class 'bool'> a: True\n",
      "<class 'bool'> b: False\n"
     ]
    }
   ],
   "source": [
    "a=True\n",
    "b=False\n",
    "\n",
    "print(f\"\"\"The Value of {a}  \n",
    "The value of {b}\"\"\")\n",
    "\n",
    "\n",
    "print(type(a),\"a:\",a)\n",
    "print(type(b),\"b:\",b)\n",
    "\n",
    "\n"
   ]
  },
  {
   "cell_type": "markdown",
   "id": "6a172141",
   "metadata": {},
   "source": [
    "2. What are the three different types of Boolean operators?"
   ]
  },
  {
   "cell_type": "markdown",
   "id": "b808d8e3",
   "metadata": {},
   "source": [
    "Ans: 1. and \n",
    "     2. not\n",
    "     3. or"
   ]
  },
  {
   "cell_type": "markdown",
   "id": "54ee8511",
   "metadata": {},
   "source": [
    "3. Make a list of each Boolean operators truth tables (i.e. every possible combination of Boolean\n",
    "  values for the operator and what it evaluate"
   ]
  },
  {
   "cell_type": "markdown",
   "id": "d8e8081a",
   "metadata": {},
   "source": [
    "Ans: Truth Table for AND Opeartor"
   ]
  },
  {
   "cell_type": "code",
   "execution_count": 23,
   "id": "a458de4d",
   "metadata": {},
   "outputs": [
    {
     "name": "stdout",
     "output_type": "stream",
     "text": [
      "True  | True : and: True\n",
      "True  | False : and: False\n",
      "False | True : and: False\n",
      "False | False : and: False\n"
     ]
    }
   ],
   "source": [
    "#Truth Table for and Operator\n",
    "\n",
    "print(f\"\"\"True  | True : and: {True and True}\n",
    "True  | False : and: {True and False}\n",
    "False | True : and: {False and True}\n",
    "False | False : and: {False and False}\"\"\")"
   ]
  },
  {
   "cell_type": "code",
   "execution_count": 26,
   "id": "1fba7db8",
   "metadata": {},
   "outputs": [
    {
     "name": "stdout",
     "output_type": "stream",
     "text": [
      "not : True: False\n",
      "not : false: True\n",
      "\n"
     ]
    }
   ],
   "source": [
    "#Truth Table for not Operator\n",
    "\n",
    "print(f\"\"\"not : True: {not True}\n",
    "not : false: { not False}\n",
    "\"\"\")"
   ]
  },
  {
   "cell_type": "code",
   "execution_count": 27,
   "id": "13cd41ba",
   "metadata": {},
   "outputs": [
    {
     "name": "stdout",
     "output_type": "stream",
     "text": [
      "True  | True : or: True\n",
      "True  | False : or: True\n",
      "False | True : or: True\n",
      "False | False : or: False\n"
     ]
    }
   ],
   "source": [
    "#Truth Table for or Operator\n",
    "\n",
    "print(f\"\"\"True  | True : or: {True or True}\n",
    "True  | False : or: {True or False}\n",
    "False | True : or: {False or True}\n",
    "False | False : or: {False or False}\"\"\")"
   ]
  },
  {
   "cell_type": "markdown",
   "id": "c14bcd72",
   "metadata": {},
   "source": [
    "4. What are the values of the following expressions?"
   ]
  },
  {
   "cell_type": "code",
   "execution_count": 28,
   "id": "d7d99a0f",
   "metadata": {},
   "outputs": [
    {
     "data": {
      "text/plain": [
       "False"
      ]
     },
     "execution_count": 28,
     "metadata": {},
     "output_type": "execute_result"
    }
   ],
   "source": [
    "(5 > 4) and (3 == 5)"
   ]
  },
  {
   "cell_type": "code",
   "execution_count": 29,
   "id": "0ae3407c",
   "metadata": {},
   "outputs": [
    {
     "data": {
      "text/plain": [
       "False"
      ]
     },
     "execution_count": 29,
     "metadata": {},
     "output_type": "execute_result"
    }
   ],
   "source": [
    "not(5>4)"
   ]
  },
  {
   "cell_type": "code",
   "execution_count": 30,
   "id": "291263da",
   "metadata": {},
   "outputs": [
    {
     "data": {
      "text/plain": [
       "True"
      ]
     },
     "execution_count": 30,
     "metadata": {},
     "output_type": "execute_result"
    }
   ],
   "source": [
    "(5 > 4) or (3 == 5)"
   ]
  },
  {
   "cell_type": "code",
   "execution_count": 31,
   "id": "e93a3e57",
   "metadata": {},
   "outputs": [
    {
     "data": {
      "text/plain": [
       "False"
      ]
     },
     "execution_count": 31,
     "metadata": {},
     "output_type": "execute_result"
    }
   ],
   "source": [
    "not ((5 > 4) or (3 == 5))"
   ]
  },
  {
   "cell_type": "code",
   "execution_count": 32,
   "id": "17e80c4c",
   "metadata": {},
   "outputs": [
    {
     "data": {
      "text/plain": [
       "False"
      ]
     },
     "execution_count": 32,
     "metadata": {},
     "output_type": "execute_result"
    }
   ],
   "source": [
    "(True and True) and (True == False)"
   ]
  },
  {
   "cell_type": "code",
   "execution_count": 33,
   "id": "dd85535a",
   "metadata": {},
   "outputs": [
    {
     "data": {
      "text/plain": [
       "True"
      ]
     },
     "execution_count": 33,
     "metadata": {},
     "output_type": "execute_result"
    }
   ],
   "source": [
    "(not False) or (not True)"
   ]
  },
  {
   "cell_type": "markdown",
   "id": "c7b7dd9b",
   "metadata": {},
   "source": [
    "5. What are the six comparison operators?"
   ]
  },
  {
   "cell_type": "markdown",
   "id": "05334933",
   "metadata": {},
   "source": [
    "Ans: 1. Equal (==)\n",
    "     2. not Equal(!=)\n",
    "     3. Greater Than (>)\n",
    "     4. Less Than (<)\n",
    "     5. Less Than Equal (<=)\n",
    "     6. Greater Than Equal(>=)\n"
   ]
  },
  {
   "cell_type": "code",
   "execution_count": 35,
   "id": "5baac13a",
   "metadata": {},
   "outputs": [
    {
     "name": "stdout",
     "output_type": "stream",
     "text": [
      "Equal To Operator: False\n",
      "Not  Equal To Operator: True\n",
      "Greater Than Operator: False\n",
      "Less Than Operator: True\n",
      "Grather Than Equal To Operator: False\n",
      "Less Than Equal To Operator: True\n"
     ]
    }
   ],
   "source": [
    "# Example of Six Comparision Opeartor\n",
    "a=10\n",
    "b=20\n",
    "\n",
    "print(\"Equal To Operator:\",a==b)\n",
    "print(\"Not  Equal To Operator:\",a!=b)\n",
    "print(\"Greater Than Operator:\",a>b)\n",
    "print(\"Less Than Operator:\",a<b)\n",
    "print(\"Grather Than Equal To Operator:\",a>=b)\n",
    "print(\"Less Than Equal To Operator:\",a<=b)"
   ]
  },
  {
   "cell_type": "markdown",
   "id": "2d639e8f",
   "metadata": {},
   "source": [
    "6. How do you tell the difference between the equal to and assignment operators?Describe a\n",
    "condition and when you would use one."
   ]
  },
  {
   "cell_type": "markdown",
   "id": "3bb97bd5",
   "metadata": {},
   "source": [
    "Ans: 1. Equal (==) is used to check whether two condition and return boolean value or data\n",
    "     2. Assignment operator is used to Assign Value to variable \n",
    "     "
   ]
  },
  {
   "cell_type": "code",
   "execution_count": 40,
   "id": "a4bc5461",
   "metadata": {},
   "outputs": [
    {
     "name": "stdout",
     "output_type": "stream",
     "text": [
      "False\n"
     ]
    }
   ],
   "source": [
    "# Example Of Equal (==)\n",
    "\n",
    "a=10\n",
    "b=20\n",
    "\n",
    "print(a==b)"
   ]
  },
  {
   "cell_type": "code",
   "execution_count": 39,
   "id": "ab2d7cd5",
   "metadata": {},
   "outputs": [
    {
     "name": "stdout",
     "output_type": "stream",
     "text": [
      "20\n"
     ]
    }
   ],
   "source": [
    "# Example of Assignment (=)\n",
    "\n",
    "a=b\n",
    "print(a)"
   ]
  },
  {
   "cell_type": "markdown",
   "id": "9a048bd8",
   "metadata": {},
   "source": [
    "7. Identify the three blocks in this code:\n",
    "spam = 0       It is first block to  assign a valu 0 to spam variable\n",
    "\n",
    "\n",
    "if spam == 10:  It is 2nd Block for comparing condition equal means it represent spam is equal to 10 \n",
    "print('egg')\n",
    "\n",
    "\n",
    "if spam > 5:          It is 3rd block  coding block\n",
    "print('bacon')\n",
    "else:\n",
    "print('ham')\n",
    "print('spam')\n",
    "print('spam')"
   ]
  },
  {
   "cell_type": "markdown",
   "id": "8042ada2",
   "metadata": {},
   "source": [
    "8. Write code that prints Hello if 1 is stored in spam, prints Howdy if 2 is stored in spam, and prints\n",
    "Greetings! if anything else is stored in spam."
   ]
  },
  {
   "cell_type": "code",
   "execution_count": 41,
   "id": "e1bb8710",
   "metadata": {},
   "outputs": [
    {
     "name": "stdout",
     "output_type": "stream",
     "text": [
      "Hellow\n"
     ]
    }
   ],
   "source": [
    "spam=1\n",
    "if spam==1:\n",
    "    print(\"Hellow\")\n",
    "elif spam==2:\n",
    "    print(\"Howday\")\n",
    "else:\n",
    "    print(\"Greeting\")"
   ]
  },
  {
   "cell_type": "markdown",
   "id": "f1e578f3",
   "metadata": {},
   "source": [
    "9.If your programme is stuck in an endless loop, what keys you’ll press?"
   ]
  },
  {
   "cell_type": "code",
   "execution_count": null,
   "id": "53394545",
   "metadata": {},
   "outputs": [],
   "source": [
    "# command To stop an endless loop is CTRL+C . "
   ]
  },
  {
   "cell_type": "markdown",
   "id": "8a151860",
   "metadata": {},
   "source": [
    "10. How can you tell the difference between break and continue?"
   ]
  },
  {
   "cell_type": "code",
   "execution_count": null,
   "id": "5b33bbef",
   "metadata": {},
   "outputs": [],
   "source": [
    "# break :- break direct breaks the loop when the given condition became true.\n",
    "#          it terminates the loop.  \n",
    "\n",
    "#e.g:\n",
    "#for i in (1,num):\n",
    "#    if not num%1==0:\n",
    "#        flag=1\n",
    "#        break\n",
    "\n",
    "\n",
    "#continue :- continue just skip the step where condition became true.\n",
    "#            it not going to teminate the loop.\n",
    "\n",
    "#e.g:\n",
    "# for i in range(1,10):\n",
    "#        if i==3 and i==6:\n",
    "#            continue"
   ]
  },
  {
   "cell_type": "markdown",
   "id": "c505c071",
   "metadata": {},
   "source": [
    "11. In a for loop, what is the difference between range(10), range(0, 10), and range(0, 10, 1)?"
   ]
  },
  {
   "cell_type": "code",
   "execution_count": null,
   "id": "dd80e0a2",
   "metadata": {},
   "outputs": [],
   "source": [
    "#  Output of all three range() is same and difference is :\n",
    "\n",
    "# range(10) :- Here we pass only one argument therefore python take it as a ending point and print 1 to 9 numbers as output.\n",
    "\n",
    "# range(0,10) :- Here we pass two arguments first one is starting point and second is ending point.\n",
    "\n",
    "# range(0,10,1) :- The third argument in range() is known as steps , pyrhon skips given steps at every iteration."
   ]
  },
  {
   "cell_type": "markdown",
   "id": "591f436a",
   "metadata": {},
   "source": [
    "12. Write a short program that prints the numbers 1 to 10 using a for loop. Then write an equivalent program that prints the numbers 1 to 10 using a while loop."
   ]
  },
  {
   "cell_type": "code",
   "execution_count": 46,
   "id": "f46b7aef",
   "metadata": {},
   "outputs": [
    {
     "name": "stdout",
     "output_type": "stream",
     "text": [
      "1\n",
      "2\n",
      "3\n",
      "4\n",
      "5\n",
      "6\n",
      "7\n",
      "8\n",
      "9\n",
      "10\n"
     ]
    }
   ],
   "source": [
    "for i in range(1,10+1):\n",
    "    print(i)"
   ]
  },
  {
   "cell_type": "code",
   "execution_count": 44,
   "id": "d648f44e",
   "metadata": {},
   "outputs": [
    {
     "name": "stdout",
     "output_type": "stream",
     "text": [
      "1\n",
      "2\n",
      "3\n",
      "4\n",
      "5\n",
      "6\n",
      "7\n",
      "8\n",
      "9\n",
      "10\n"
     ]
    }
   ],
   "source": [
    "i=0\n",
    "while(i<10):\n",
    "    i=i+1\n",
    "    print(i)"
   ]
  },
  {
   "cell_type": "markdown",
   "id": "1860cd9b",
   "metadata": {},
   "source": [
    "13. If you had a function named bacon() inside a module named spam, how would you call it after\n",
    "importing spam?"
   ]
  },
  {
   "cell_type": "code",
   "execution_count": null,
   "id": "4a49dbe4",
   "metadata": {},
   "outputs": [],
   "source": [
    "# using dot notation\n",
    "#spam.becon()"
   ]
  }
 ],
 "metadata": {
  "kernelspec": {
   "display_name": "Python 3 (ipykernel)",
   "language": "python",
   "name": "python3"
  },
  "language_info": {
   "codemirror_mode": {
    "name": "ipython",
    "version": 3
   },
   "file_extension": ".py",
   "mimetype": "text/x-python",
   "name": "python",
   "nbconvert_exporter": "python",
   "pygments_lexer": "ipython3",
   "version": "3.9.12"
  }
 },
 "nbformat": 4,
 "nbformat_minor": 5
}
