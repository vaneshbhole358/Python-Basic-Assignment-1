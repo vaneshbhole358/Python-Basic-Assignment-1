{
 "cells": [
  {
   "cell_type": "code",
   "execution_count": 1,
   "id": "f39d6aa3",
   "metadata": {},
   "outputs": [
    {
     "name": "stdout",
     "output_type": "stream",
     "text": [
      "50\n",
      "hello\n",
      "<class 'float'>\n",
      "15\n",
      "2.0\n",
      "15\n",
      "<class 'int'>\n"
     ]
    }
   ],
   "source": [
    "# Assignment 1\n",
    "# Q1 1. In the below elements which of them are values or an expression? eg:- values can be\n",
    "# integer or string and expressions will be mathematical operators.\n",
    "\n",
    "# * --> is operator used for multiplicaiton and power the the given value i.e. 10*5\n",
    "print(10*5)\n",
    "\n",
    "# 'hello' ->  whenever we see some data in '' or \"\" is string . i.e \"hello\" 'hello'\n",
    "print('hello')\n",
    "\n",
    "# -87.8 --> This is negative float value\n",
    "float_value=-87.8\n",
    "print(type(float_value))\n",
    "\n",
    "# -   --> It's Arithmetic Operator in Python used for substract two or more value form each other i.e 25-10\n",
    "\n",
    "print(25-10)\n",
    "\n",
    "\n",
    "\n",
    "# /     --> It's Arithmetic Operator in Python used for division between two number i.e 10/5\n",
    "\n",
    "print(10/5) # 2.0 it give float values default\n",
    "\n",
    "# +   -->It's Arithmetic Operator in Python used for Addition betweeen two number i.e 10+5\n",
    "\n",
    "print(10+5)\n",
    "\n",
    "\n",
    "# 6 --> It is integer value for example. 0,1,2,3........ are the integer values\n",
    "\n",
    "print(type(6))"
   ]
  },
  {
   "cell_type": "code",
   "execution_count": 2,
   "id": "2b0ddb54",
   "metadata": {},
   "outputs": [],
   "source": [
    "# Q 2 What is the difference between string and variable?\n",
    "\n",
    " # String                                                Variable\n",
    "\n",
    "# 1. String is a Data Type                        1. Variable is not data type\n",
    "# 2. String is it self data                       2. Variable is store data \n",
    "# 2. Class of String is str                       3. Variable class is depend upon which data is stored in variable\n",
    "# 4. i.e. 'vanesh', \"Vanesh\",                     4  i.e a=10 # it is integer value the class is <class int>\n",
    "#       \"\"\" Vanesh\"\"\"                                 b=20.0 # it is positive float value <class float>\n",
    "#                                                     c='Vanesh' # its is string\n",
    "#                                                  where a,b and c are variables \"\"\" \n",
    "                                                        \n"
   ]
  },
  {
   "cell_type": "code",
   "execution_count": 36,
   "id": "f2522357",
   "metadata": {},
   "outputs": [],
   "source": [
    " # Q 3. Describe three different data types.\n",
    "    \n",
    "    # i) Integer ---> * It's used for whole number\n",
    "    #                 * i.e 12222, 56566,56665,\n",
    "    #                 * type is <class int>\n",
    "\n",
    "   \n",
    "    # ii) Float  -- > * it's used for decimal number \n",
    "    #                 * i.e. 1212.2, 566.2, 2.0 , 565.5665\n",
    "    #                  * type is <class float>\n",
    "    \n",
    "    \n",
    "    \n",
    "    #iii) String -->  * it's used for store statement or alphabetical character/\n",
    "    #                 * 'Vanesh' , \"Vanesh\" , \"\"\"My name is \n",
    "     #                                                 Vanesh \"\"\" \n",
    "    #                   '12233', '1244.011'"
   ]
  },
  {
   "cell_type": "code",
   "execution_count": null,
   "id": "d4d831dc",
   "metadata": {},
   "outputs": [],
   "source": [
    "# Q 4  What is an expression made up of? What do all expressions do?\n",
    "\n",
    "# Ans --> * An expression is a combination of operators and operands that is interpreted to produce some other value.\n",
    "#         * an expression is evaluated as per the precedence of its operators\n",
    "#         * if there is more than one operator in an expression, their precedence decides which operation will be performed first\n",
    "#         * We have many different types of expressions in Python\n",
    "\n",
    "# 1. Constant Expressions: These are the expressions that have constant values only.\n",
    "            # x = 15 + 25.2\n",
    "  \n",
    "            # print(x)\n",
    "            # 30.2\n",
    "    \n",
    "# 2.    Arithmetic Expressions: An arithmetic expression is a combination of numeric values, \n",
    "#       operators, and sometimes parenthesis. The result of this type of expression is also a numeric value. \n",
    "#       The operators used in these expressions are arithmetic operators like addition, subtraction, etc. \n",
    "\n",
    "#        Operators               Syntax             Functioning\n",
    "#            +                    x + y              Addition\n",
    "#            –                    x – y              Subtraction\n",
    "#            *                    x * y              Multiplication\n",
    "#            /                    x / y              Division \n",
    "#            %                    x % y              Remainder\n",
    "#            **                   x **y             Exponentiation"
   ]
  },
  {
   "cell_type": "code",
   "execution_count": null,
   "id": "92cfa7fd",
   "metadata": {},
   "outputs": [],
   "source": [
    "# Q 5 This assignment statements, like spam = 10. What is the difference between an expression and a statement?\n",
    "# Ans: Expression :An expression is a combination of values and functions that are combined and\n",
    "#      interpreted by the compiler to create a new value\n",
    "#      i.e. spam=10  is a expression ,spam cantain positive ineteger value after printing this spam it return a \n",
    "#           positive integer value/\n",
    "\n",
    "\n",
    "#      Statement: A statement which is just a independent unit of execution and doesn't return anything\n",
    "#                \n",
    "#                i.e.\n",
    "    "
   ]
  },
  {
   "cell_type": "code",
   "execution_count": 3,
   "id": "9869243c",
   "metadata": {},
   "outputs": [
    {
     "data": {
      "text/plain": [
       "23"
      ]
     },
     "execution_count": 3,
     "metadata": {},
     "output_type": "execute_result"
    }
   ],
   "source": [
    "# Q 6. After running the following code, what does the variable bacon contain?\n",
    "bacon = 22\n",
    "bacon+1\n",
    "        # 23 is returned "
   ]
  },
  {
   "cell_type": "code",
   "execution_count": null,
   "id": "082f625f",
   "metadata": {},
   "outputs": [],
   "source": [
    "# Q 7. What should the values of the following two terms be?"
   ]
  },
  {
   "cell_type": "code",
   "execution_count": 4,
   "id": "30811146",
   "metadata": {},
   "outputs": [
    {
     "data": {
      "text/plain": [
       "'spamspamspam'"
      ]
     },
     "execution_count": 4,
     "metadata": {},
     "output_type": "execute_result"
    }
   ],
   "source": [
    "'spam'+'spamspam'   \n"
   ]
  },
  {
   "cell_type": "code",
   "execution_count": 5,
   "id": "da187f44",
   "metadata": {},
   "outputs": [
    {
     "data": {
      "text/plain": [
       "'spamspamspam'"
      ]
     },
     "execution_count": 5,
     "metadata": {},
     "output_type": "execute_result"
    }
   ],
   "source": [
    "'spam'*3     "
   ]
  },
  {
   "cell_type": "code",
   "execution_count": null,
   "id": "1ebdeb77",
   "metadata": {},
   "outputs": [],
   "source": [
    "#  Q 8. Why is eggs a valid variable name while 100 is invalid?\n",
    "# Ans: 'eggs' is a valid variable name because of it staisfies the property of name. Its start with alphabet\n",
    "#      '100' is invalid because its start with number and does't hold property of variable name\n",
    "\n",
    "\n",
    "\n"
   ]
  },
  {
   "cell_type": "code",
   "execution_count": 10,
   "id": "3c17332c",
   "metadata": {},
   "outputs": [
    {
     "name": "stdout",
     "output_type": "stream",
     "text": [
      "10\n",
      "<class 'int'>\n",
      "10.0\n",
      "<class 'float'>\n",
      "10.0\n",
      "<class 'str'>\n"
     ]
    }
   ],
   "source": [
    "# 9. What three functions can be used to get the integer, floating-point number, or string version of a value?\n",
    "\n",
    "# 1 integer\n",
    "a=int(10)\n",
    "print(a)\n",
    "print(type(a))\n",
    "\n",
    "\n",
    "# float-pointing number\n",
    "\n",
    "a=float(a)\n",
    "print(a)\n",
    "print(type(a))\n",
    "\n",
    "\n",
    "#String \n",
    "\n",
    "a=str(a)\n",
    "print(a)\n",
    "print(type(a))\n"
   ]
  },
  {
   "cell_type": "code",
   "execution_count": 15,
   "id": "abd428b8",
   "metadata": {},
   "outputs": [
    {
     "data": {
      "text/plain": [
       "'I have eaten99burritos.'"
      ]
     },
     "execution_count": 15,
     "metadata": {},
     "output_type": "execute_result"
    }
   ],
   "source": [
    "# Q 10 10. Why does this expression cause an error? How can you fix it?\n",
    "\n",
    "#'I have eaten'+99+'burritos.'\n",
    "\n",
    "# Ans: Beacuse of 'I have eatem' and 'burritos' both are string and 99 is integer.\n",
    "#      But we trying to concatenate inteter 99 between 'I have eaten' and 'burritos'its raise error\n",
    "#      integer and string cannot be concatenate.\n",
    "\n",
    "#  How to fix it.\n",
    "# convert 99 integer into string using str(99) function.\n",
    "\n",
    "'I have eaten'+str(99)+'burritos.'"
   ]
  },
  {
   "cell_type": "code",
   "execution_count": null,
   "id": "03f8c058",
   "metadata": {},
   "outputs": [],
   "source": []
  }
 ],
 "metadata": {
  "kernelspec": {
   "display_name": "Python 3 (ipykernel)",
   "language": "python",
   "name": "python3"
  },
  "language_info": {
   "codemirror_mode": {
    "name": "ipython",
    "version": 3
   },
   "file_extension": ".py",
   "mimetype": "text/x-python",
   "name": "python",
   "nbconvert_exporter": "python",
   "pygments_lexer": "ipython3",
   "version": "3.9.13"
  }
 },
 "nbformat": 4,
 "nbformat_minor": 5
}
